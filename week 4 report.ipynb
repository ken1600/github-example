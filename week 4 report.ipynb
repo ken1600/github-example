{
 "cells": [
  {
   "attachments": {},
   "cell_type": "markdown",
   "metadata": {},
   "source": [
    "IBM Applied Data Science Capstone\n",
    "Clustering Tokyo area and where we stay when Tokyo Olympic 2020\n",
    "\n",
    "\n",
    "Introduction\n",
    "In 2020, we have Tokyo Olympic and expect that many visitors come from over the world. They would see the Olympic game and also may want to go sightseeing in Tokyo and other district. Even if Tokyo is well known city, most of visitor may not know how to go to place where they would go, which area is continence to commute, where is the area we should go for lunch etc. Knowing the Tokyo helps tourist to their visit more comfortable and easy.\n",
    "\n",
    "Business Problem\n",
    "The Objective of this capstone project is to clustering the city of Tokyo, Japan to make the visitors easier to stay during Olympic period. Using the data science methodology and machine learning techniques to provide the useful data to foreigner and visitors in Tokyo. \n",
    "\n",
    "Target Audience of this project\n",
    "This project is particularly useful for tourist for Tokyo Olympic 2020.\n",
    "\n",
    "Data\n",
    "To get the insight, we will use the following data.\n",
    "1.\tList of neighborhoods in Tokyo.\n",
    "2.\tLatitude and Longitude coordinates of those neighborhoods.\n",
    "3.\tLocation data that would be useful for tourist."
   ]
  }
 ],
 "metadata": {
  "kernelspec": {
   "display_name": "Python 3",
   "language": "python",
   "name": "python3"
  },
  "language_info": {
   "codemirror_mode": {
    "name": "ipython",
    "version": 3
   },
   "file_extension": ".py",
   "mimetype": "text/x-python",
   "name": "python",
   "nbconvert_exporter": "python",
   "pygments_lexer": "ipython3",
   "version": "3.6.7"
  }
 },
 "nbformat": 4,
 "nbformat_minor": 2
}
